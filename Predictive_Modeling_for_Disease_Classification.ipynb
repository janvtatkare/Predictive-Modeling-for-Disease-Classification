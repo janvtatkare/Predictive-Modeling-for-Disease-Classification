{
  "cells": [
    {
      "cell_type": "code",
      "execution_count": null,
      "metadata": {
        "scrolled": true,
        "id": "aeqPqLlmjXLn",
        "outputId": "78b1caeb-c306-43b8-a8af-3f81170855cd"
      },
      "outputs": [
        {
          "data": {
            "text/html": [
              "<div>\n",
              "<style scoped>\n",
              "    .dataframe tbody tr th:only-of-type {\n",
              "        vertical-align: middle;\n",
              "    }\n",
              "\n",
              "    .dataframe tbody tr th {\n",
              "        vertical-align: top;\n",
              "    }\n",
              "\n",
              "    .dataframe thead th {\n",
              "        text-align: right;\n",
              "    }\n",
              "</style>\n",
              "<table border=\"1\" class=\"dataframe\">\n",
              "  <thead>\n",
              "    <tr style=\"text-align: right;\">\n",
              "      <th></th>\n",
              "      <th>SAMPLE_ID</th>\n",
              "      <th>HGB</th>\n",
              "      <th>HCT</th>\n",
              "      <th>PLT</th>\n",
              "      <th>WBC</th>\n",
              "      <th>LYM</th>\n",
              "      <th>MON</th>\n",
              "      <th>EOS</th>\n",
              "      <th>OUTPUT</th>\n",
              "      <th>RBC</th>\n",
              "      <th>...</th>\n",
              "      <th>MCHC</th>\n",
              "      <th>RDWcv</th>\n",
              "      <th>RDWsd</th>\n",
              "      <th>MPV</th>\n",
              "      <th>PCT</th>\n",
              "      <th>PDW</th>\n",
              "      <th>NEU</th>\n",
              "      <th>BAS</th>\n",
              "      <th>ALY</th>\n",
              "      <th>LIC</th>\n",
              "    </tr>\n",
              "  </thead>\n",
              "  <tbody>\n",
              "    <tr>\n",
              "      <td>0</td>\n",
              "      <td>1001</td>\n",
              "      <td>12.7</td>\n",
              "      <td>37.5</td>\n",
              "      <td>376</td>\n",
              "      <td>10.6</td>\n",
              "      <td>9.0</td>\n",
              "      <td>10.9</td>\n",
              "      <td>0.7</td>\n",
              "      <td>0</td>\n",
              "      <td>4.62</td>\n",
              "      <td>...</td>\n",
              "      <td>33.9</td>\n",
              "      <td>14.0</td>\n",
              "      <td>42</td>\n",
              "      <td>10.0</td>\n",
              "      <td>0.269</td>\n",
              "      <td>20.5</td>\n",
              "      <td>79.2</td>\n",
              "      <td>0.2</td>\n",
              "      <td>0.6</td>\n",
              "      <td>0.3</td>\n",
              "    </tr>\n",
              "    <tr>\n",
              "      <td>1</td>\n",
              "      <td>1002</td>\n",
              "      <td>14.8</td>\n",
              "      <td>49.0</td>\n",
              "      <td>104</td>\n",
              "      <td>4.9</td>\n",
              "      <td>54.0</td>\n",
              "      <td>4.0</td>\n",
              "      <td>2.0</td>\n",
              "      <td>0</td>\n",
              "      <td>5.24</td>\n",
              "      <td>...</td>\n",
              "      <td>30.2</td>\n",
              "      <td>12.1</td>\n",
              "      <td>38</td>\n",
              "      <td>10.0</td>\n",
              "      <td>0.440</td>\n",
              "      <td>15.6</td>\n",
              "      <td>40.0</td>\n",
              "      <td>0.0</td>\n",
              "      <td>0.4</td>\n",
              "      <td>0.5</td>\n",
              "    </tr>\n",
              "    <tr>\n",
              "      <td>2</td>\n",
              "      <td>159129</td>\n",
              "      <td>13.2</td>\n",
              "      <td>42.3</td>\n",
              "      <td>130</td>\n",
              "      <td>2.4</td>\n",
              "      <td>15.0</td>\n",
              "      <td>2.6</td>\n",
              "      <td>1.6</td>\n",
              "      <td>1</td>\n",
              "      <td>4.25</td>\n",
              "      <td>...</td>\n",
              "      <td>32.4</td>\n",
              "      <td>15.0</td>\n",
              "      <td>42</td>\n",
              "      <td>9.1</td>\n",
              "      <td>0.245</td>\n",
              "      <td>15.8</td>\n",
              "      <td>80.8</td>\n",
              "      <td>0.0</td>\n",
              "      <td>0.4</td>\n",
              "      <td>0.4</td>\n",
              "    </tr>\n",
              "    <tr>\n",
              "      <td>3</td>\n",
              "      <td>159122</td>\n",
              "      <td>15.6</td>\n",
              "      <td>46.8</td>\n",
              "      <td>126</td>\n",
              "      <td>3.9</td>\n",
              "      <td>41.7</td>\n",
              "      <td>8.1</td>\n",
              "      <td>2.6</td>\n",
              "      <td>0</td>\n",
              "      <td>4.52</td>\n",
              "      <td>...</td>\n",
              "      <td>33.3</td>\n",
              "      <td>13.5</td>\n",
              "      <td>50</td>\n",
              "      <td>11.0</td>\n",
              "      <td>0.138</td>\n",
              "      <td>20.3</td>\n",
              "      <td>47.3</td>\n",
              "      <td>0.3</td>\n",
              "      <td>0.8</td>\n",
              "      <td>0.2</td>\n",
              "    </tr>\n",
              "    <tr>\n",
              "      <td>4</td>\n",
              "      <td>159102</td>\n",
              "      <td>11.0</td>\n",
              "      <td>32.6</td>\n",
              "      <td>168</td>\n",
              "      <td>9.7</td>\n",
              "      <td>7.4</td>\n",
              "      <td>4.3</td>\n",
              "      <td>0.9</td>\n",
              "      <td>0</td>\n",
              "      <td>3.14</td>\n",
              "      <td>...</td>\n",
              "      <td>33.7</td>\n",
              "      <td>11.4</td>\n",
              "      <td>42</td>\n",
              "      <td>7.8</td>\n",
              "      <td>0.131</td>\n",
              "      <td>14.0</td>\n",
              "      <td>87.4</td>\n",
              "      <td>0.0</td>\n",
              "      <td>0.3</td>\n",
              "      <td>0.3</td>\n",
              "    </tr>\n",
              "  </tbody>\n",
              "</table>\n",
              "<p>5 rows × 22 columns</p>\n",
              "</div>"
            ],
            "text/plain": [
              "   SAMPLE_ID   HGB   HCT  PLT   WBC   LYM   MON  EOS  OUTPUT   RBC  ...  MCHC  \\\n",
              "0       1001  12.7  37.5  376  10.6   9.0  10.9  0.7       0  4.62  ...  33.9   \n",
              "1       1002  14.8  49.0  104   4.9  54.0   4.0  2.0       0  5.24  ...  30.2   \n",
              "2     159129  13.2  42.3  130   2.4  15.0   2.6  1.6       1  4.25  ...  32.4   \n",
              "3     159122  15.6  46.8  126   3.9  41.7   8.1  2.6       0  4.52  ...  33.3   \n",
              "4     159102  11.0  32.6  168   9.7   7.4   4.3  0.9       0  3.14  ...  33.7   \n",
              "\n",
              "   RDWcv  RDWsd   MPV    PCT   PDW   NEU  BAS  ALY  LIC  \n",
              "0   14.0     42  10.0  0.269  20.5  79.2  0.2  0.6  0.3  \n",
              "1   12.1     38  10.0  0.440  15.6  40.0  0.0  0.4  0.5  \n",
              "2   15.0     42   9.1  0.245  15.8  80.8  0.0  0.4  0.4  \n",
              "3   13.5     50  11.0  0.138  20.3  47.3  0.3  0.8  0.2  \n",
              "4   11.4     42   7.8  0.131  14.0  87.4  0.0  0.3  0.3  \n",
              "\n",
              "[5 rows x 22 columns]"
            ]
          },
          "execution_count": 1,
          "metadata": {},
          "output_type": "execute_result"
        }
      ],
      "source": [
        "import pandas as pd\n",
        "df = pd.read_csv(\"./data/Dengue.csv\")\n",
        "df.head()"
      ]
    },
    {
      "cell_type": "code",
      "execution_count": null,
      "metadata": {
        "id": "NafeG0A-jXLq"
      },
      "outputs": [],
      "source": [
        "dengue = df[['SAMPLE_ID','HGB', 'HCT', 'PLT', 'WBC', 'LYM', 'MON', 'EOS', 'OUTPUT']]"
      ]
    },
    {
      "cell_type": "code",
      "execution_count": null,
      "metadata": {
        "id": "6Gpyy-_njXLq",
        "outputId": "f3f134df-7ec3-44ec-db24-00bac1e9e39a"
      },
      "outputs": [
        {
          "data": {
            "text/html": [
              "<div>\n",
              "<style scoped>\n",
              "    .dataframe tbody tr th:only-of-type {\n",
              "        vertical-align: middle;\n",
              "    }\n",
              "\n",
              "    .dataframe tbody tr th {\n",
              "        vertical-align: top;\n",
              "    }\n",
              "\n",
              "    .dataframe thead th {\n",
              "        text-align: right;\n",
              "    }\n",
              "</style>\n",
              "<table border=\"1\" class=\"dataframe\">\n",
              "  <thead>\n",
              "    <tr style=\"text-align: right;\">\n",
              "      <th></th>\n",
              "      <th>SAMPLE_ID</th>\n",
              "      <th>HGB</th>\n",
              "      <th>HCT</th>\n",
              "      <th>PLT</th>\n",
              "      <th>WBC</th>\n",
              "      <th>LYM</th>\n",
              "      <th>MON</th>\n",
              "      <th>EOS</th>\n",
              "      <th>OUTPUT</th>\n",
              "    </tr>\n",
              "  </thead>\n",
              "  <tbody>\n",
              "    <tr>\n",
              "      <td>0</td>\n",
              "      <td>1001</td>\n",
              "      <td>12.7</td>\n",
              "      <td>37.5</td>\n",
              "      <td>376</td>\n",
              "      <td>10.6</td>\n",
              "      <td>9.0</td>\n",
              "      <td>10.9</td>\n",
              "      <td>0.7</td>\n",
              "      <td>0</td>\n",
              "    </tr>\n",
              "    <tr>\n",
              "      <td>1</td>\n",
              "      <td>1002</td>\n",
              "      <td>14.8</td>\n",
              "      <td>49.0</td>\n",
              "      <td>104</td>\n",
              "      <td>4.9</td>\n",
              "      <td>54.0</td>\n",
              "      <td>4.0</td>\n",
              "      <td>2.0</td>\n",
              "      <td>0</td>\n",
              "    </tr>\n",
              "    <tr>\n",
              "      <td>2</td>\n",
              "      <td>159129</td>\n",
              "      <td>13.2</td>\n",
              "      <td>42.3</td>\n",
              "      <td>130</td>\n",
              "      <td>2.4</td>\n",
              "      <td>15.0</td>\n",
              "      <td>2.6</td>\n",
              "      <td>1.6</td>\n",
              "      <td>1</td>\n",
              "    </tr>\n",
              "    <tr>\n",
              "      <td>3</td>\n",
              "      <td>159122</td>\n",
              "      <td>15.6</td>\n",
              "      <td>46.8</td>\n",
              "      <td>126</td>\n",
              "      <td>3.9</td>\n",
              "      <td>41.7</td>\n",
              "      <td>8.1</td>\n",
              "      <td>2.6</td>\n",
              "      <td>0</td>\n",
              "    </tr>\n",
              "    <tr>\n",
              "      <td>4</td>\n",
              "      <td>159102</td>\n",
              "      <td>11.0</td>\n",
              "      <td>32.6</td>\n",
              "      <td>168</td>\n",
              "      <td>9.7</td>\n",
              "      <td>7.4</td>\n",
              "      <td>4.3</td>\n",
              "      <td>0.9</td>\n",
              "      <td>0</td>\n",
              "    </tr>\n",
              "  </tbody>\n",
              "</table>\n",
              "</div>"
            ],
            "text/plain": [
              "   SAMPLE_ID   HGB   HCT  PLT   WBC   LYM   MON  EOS  OUTPUT\n",
              "0       1001  12.7  37.5  376  10.6   9.0  10.9  0.7       0\n",
              "1       1002  14.8  49.0  104   4.9  54.0   4.0  2.0       0\n",
              "2     159129  13.2  42.3  130   2.4  15.0   2.6  1.6       1\n",
              "3     159122  15.6  46.8  126   3.9  41.7   8.1  2.6       0\n",
              "4     159102  11.0  32.6  168   9.7   7.4   4.3  0.9       0"
            ]
          },
          "execution_count": 3,
          "metadata": {},
          "output_type": "execute_result"
        }
      ],
      "source": [
        "dengue.head()"
      ]
    },
    {
      "cell_type": "code",
      "execution_count": null,
      "metadata": {
        "id": "y5jrZnh8jXLr"
      },
      "outputs": [],
      "source": [
        "from sklearn.tree import DecisionTreeClassifier\n",
        "\n",
        "decisiontree = DecisionTreeClassifier(criterion = 'entropy', max_depth = 5)\n",
        "obtained_tree = decisiontree.fit(dengue[['HGB', 'HCT', 'PLT', 'WBC', 'LYM', 'MON', 'EOS']], dengue['OUTPUT'])\n"
      ]
    },
    {
      "cell_type": "code",
      "execution_count": null,
      "metadata": {
        "id": "Y9_kPmGKjXLr",
        "outputId": "f45a6fbf-61d6-4611-fc33-987febd347dc"
      },
      "outputs": [
        {
          "name": "stdout",
          "output_type": "stream",
          "text": [
            "Enter HGB value: 13\n",
            "Enter HGT value: 41.6\n",
            "Enter Platlet value: 116\n",
            "Enter WBC value: 3\n",
            "Enter Lympocyte value: 80\n",
            "Enter Monocyte value: 79\n",
            "Enter Eosiphile value: 87\n"
          ]
        }
      ],
      "source": [
        "hgb = input(\"Enter HGB value: \")\n",
        "hct = input(\"Enter HGT value: \")\n",
        "plt = input(\"Enter Platlet value: \")\n",
        "wbc = input(\"Enter WBC value: \")\n",
        "lym = input(\"Enter Lympocyte value: \")\n",
        "mon = input(\"Enter Monocyte value: \")\n",
        "eos = input(\"Enter Eosiphile value: \")"
      ]
    },
    {
      "cell_type": "code",
      "execution_count": null,
      "metadata": {
        "id": "ttgbs6RJjXLr",
        "outputId": "b5d46ea8-5f57-41c6-b416-dd2ebb77ec6f"
      },
      "outputs": [
        {
          "name": "stdout",
          "output_type": "stream",
          "text": [
            "Dengue: positive\n"
          ]
        }
      ],
      "source": [
        "OUT = obtained_tree.predict([[hgb, hct, plt, wbc, lym, mon, eos]])\n",
        "\n",
        "if OUT == 1:\n",
        "    print('Dengue: positive')\n",
        "else:\n",
        "    print('Dengue: negative')"
      ]
    },
    {
      "cell_type": "code",
      "execution_count": null,
      "metadata": {
        "scrolled": true,
        "id": "4iKUg-lajXLs",
        "outputId": "0aa9846a-0ac8-4458-c62b-a91e35bc7320"
      },
      "outputs": [
        {
          "name": "stdout",
          "output_type": "stream",
          "text": [
            "[1]\n",
            "[0]\n"
          ]
        }
      ],
      "source": [
        "print(obtained_tree.predict([[13.8, 42.5, 160, 3.7, 60, 76, 40]]))\n",
        "print(obtained_tree.predict([[14, 50, 400, 10, 60, 76, 40]]))\n"
      ]
    },
    {
      "cell_type": "code",
      "execution_count": null,
      "metadata": {
        "id": "5BNpIYBejXLs",
        "outputId": "66b46cf5-cd56-4dad-a16e-48a3a52eccf7"
      },
      "outputs": [
        {
          "name": "stdout",
          "output_type": "stream",
          "text": [
            "Predicted Output:  [0, 0, 1, 0, 0, 1, 0, 1, 0, 1, 0, 0, 1, 1, 0, 1, 0, 0, 1, 0, 1, 1, 0, 1, 0, 1, 0, 0, 0, 1, 1, 0, 0, 1, 0, 0, 0, 0, 0, 1, 0, 0, 1, 0, 0, 0, 0, 1, 0, 1]\n",
            "Actual Output:        [0, 0, 1, 0, 0, 1, 0, 1, 0, 1, 0, 0, 1, 1, 0, 1, 0, 0, 1, 0, 1, 1, 0, 1, 0, 1, 0, 0, 0, 1, 1, 0, 0, 1, 0, 0, 0, 0, 0, 1, 0, 0, 1, 0, 0, 0, 0, 1, 0, 1]\n"
          ]
        }
      ],
      "source": [
        "predictions = obtained_tree.predict(dengue[['HGB', 'HCT', 'PLT', 'WBC', 'LYM', 'MON', 'EOS']])\n",
        "\n",
        "print('Predicted Output: ',predictions.tolist())\n",
        "\n",
        "print('Actual Output:       ',dengue['OUTPUT'].tolist())\n",
        ""
      ]
    },
    {
      "cell_type": "code",
      "execution_count": null,
      "metadata": {
        "id": "yFKdyH83jXLt",
        "outputId": "8e666ced-b745-4c7f-de95-709de5deb4bf"
      },
      "outputs": [
        {
          "name": "stdout",
          "output_type": "stream",
          "text": [
            "[[31  0]\n",
            " [ 0 19]]\n"
          ]
        }
      ],
      "source": [
        "#Confusion Matrix\n",
        "\n",
        "from sklearn.metrics import confusion_matrix\n",
        "\n",
        "print(confusion_matrix(dengue['OUTPUT'], predictions))"
      ]
    },
    {
      "cell_type": "code",
      "execution_count": null,
      "metadata": {
        "id": "6W50uxU3jXLt",
        "outputId": "780ca10d-c976-4807-8520-c254d520464c"
      },
      "outputs": [
        {
          "data": {
            "text/plain": [
              "<matplotlib.axes._subplots.AxesSubplot at 0x24cd7ea7d30>"
            ]
          },
          "execution_count": 13,
          "metadata": {},
          "output_type": "execute_result"
        },
        {
          "data": {
            "image/png": "[encoded data removed]",
            "text/plain": [
              "<Figure size 432x288 with 2 Axes>"
            ]
          },
          "metadata": {
            "needs_background": "light"
          },
          "output_type": "display_data"
        }
      ],
      "source": [
        "#Heat map\n",
        "\n",
        "import seaborn as sb\n",
        "\n",
        "sb.heatmap(confusion_matrix(dengue['OUTPUT'], predictions), annot = True, cmap = 'Greens', xticklabels = decisiontree.classes_, yticklabels = decisiontree.classes_)\n"
      ]
    },
    {
      "cell_type": "code",
      "execution_count": null,
      "metadata": {
        "id": "oX-EifAWjXLt",
        "outputId": "8d965061-9c41-4981-dd7a-b4255c8ce425"
      },
      "outputs": [
        {
          "name": "stdout",
          "output_type": "stream",
          "text": [
            "              precision    recall  f1-score   support\n",
            "\n",
            "           0       1.00      1.00      1.00        31\n",
            "           1       1.00      1.00      1.00        19\n",
            "\n",
            "    accuracy                           1.00        50\n",
            "   macro avg       1.00      1.00      1.00        50\n",
            "weighted avg       1.00      1.00      1.00        50\n",
            "\n"
          ]
        }
      ],
      "source": [
        "#Classification Report\n",
        "from sklearn.metrics import classification_report\n",
        "\n",
        "print(classification_report(dengue['OUTPUT'], predictions))"
      ]
    },
    {
      "cell_type": "code",
      "execution_count": null,
      "metadata": {
        "id": "cA29eL-pjXLu",
        "outputId": "47deeece-f4b0-4bda-befb-38b873817a58"
      },
      "outputs": [
        {
          "data": {
            "image/png": "[encoded data removed]",
            "text/plain": [
              "<IPython.core.display.Image object>"
            ]
          },
          "execution_count": 12,
          "metadata": {},
          "output_type": "execute_result"
        }
      ],
      "source": [
        "import os\n",
        "os.environ[\"PATH\"] += os.pathsep + 'C:\\\\Program Files (x86)\\\\Graphviz2.38\\\\bin'\n",
        "from io import StringIO\n",
        "from sklearn.tree import export_graphviz\n",
        "import pydotplus\n",
        "from IPython.display import Image\n",
        "\n",
        "DecisionTreeImg = StringIO()\n",
        "\n",
        "export_graphviz(obtained_tree, out_file = DecisionTreeImg, filled = True, rounded = True, feature_names = ['HGB', 'HCT', 'PLT', 'WBC', 'LYM', 'MON', 'EOS'], special_characters = True)\n",
        "\n",
        "graph = pydotplus.graph_from_dot_data(DecisionTreeImg.getvalue())\n",
        "\n",
        "Image(graph.create_png())\n"
      ]
    },
    {
      "cell_type": "code",
      "execution_count": null,
      "metadata": {
        "id": "Z5BlR_fUjXLu"
      },
      "outputs": [],
      "source": [
        "import pandas as pd\n",
        "import numpy as np\n",
        "from sklearn.model_selection import train_test_split\n",
        "from sklearn.linear_model import LogisticRegression\n",
        "from sklearn.ensemble import RandomForestClassifier\n",
        "from sklearn.neighbors import KNeighborsClassifier\n",
        "from sklearn.metrics import accuracy_score,confusion_matrix\n",
        "from sklearn.metrics import classification_report\n",
        "from sklearn.naive_bayes import GaussianNB, BernoulliNB, MultinomialNB\n",
        "\n",
        "X_train, X_test, y_train, y_test = train_test_split(dengue.drop('OUTPUT',axis=1),dengue['OUTPUT'], test_size=0.30, random_state=101)"
      ]
    },
    {
      "cell_type": "code",
      "execution_count": null,
      "metadata": {
        "id": "j4wfj3MWjXLu",
        "outputId": "3c0f0e5e-a298-424e-a1a6-1677abdee18e"
      },
      "outputs": [
        {
          "name": "stdout",
          "output_type": "stream",
          "text": [
            "Prediction of train dataset: [1 0 1 1 1 1 0 0 1 0 1 1 1 0 1 0 0 0 0 0 1 1 1 0 0 0 0 1 1 0 1 0 0 0 0]\n",
            "Prediction of test dataset: [0 0 1 0 0 1 0 0 1 0 1 0 1 0 0]\n",
            "--------------classification_report & confusion matrix--------------------------\n",
            "              precision    recall  f1-score   support\n",
            "\n",
            "           0       0.80      0.80      0.80        10\n",
            "           1       0.60      0.60      0.60         5\n",
            "\n",
            "    accuracy                           0.73        15\n",
            "   macro avg       0.70      0.70      0.70        15\n",
            "weighted avg       0.73      0.73      0.73        15\n",
            "\n",
            "Confusion Matrix: \n",
            " [[8 2]\n",
            " [2 3]]\n",
            "---------------------------------------------------------------------------------------------\n",
            "Accuracy of Logistic Regression  is 0.7333333333333333\n"
          ]
        },
        {
          "name": "stderr",
          "output_type": "stream",
          "text": [
            "c:\\users\\strange\\appdata\\local\\programs\\python\\python36\\lib\\site-packages\\sklearn\\linear_model\\logistic.py:432: FutureWarning: Default solver will be changed to 'lbfgs' in 0.22. Specify a solver to silence this warning.\n",
            "  FutureWarning)\n"
          ]
        }
      ],
      "source": [
        "#Logestic Regration\n",
        "\n",
        "logmodel = LogisticRegression()\n",
        "logmodel.fit(X_train,y_train)\n",
        "t = logmodel.predict(X_test)\n",
        "print('Prediction of train dataset: {0}'.format(logmodel.predict(X_train)))\n",
        "print('Prediction of test dataset: {0}'.format(logmodel.predict(X_test)))\n",
        "print(\"--------------classification_report & confusion matrix--------------------------\")\n",
        "print(classification_report(y_test,t))\n",
        "confusion = confusion_matrix(y_test,t)\n",
        "print('Confusion Matrix: \\n {0}'.format(confusion))\n",
        "acc=accuracy_score(y_test,t)\n",
        "print(\"---------------------------------------------------------------------------------------------\")\n",
        "print( 'Accuracy of Logistic Regression  is {0}'.format(acc))"
      ]
    },
    {
      "cell_type": "code",
      "execution_count": null,
      "metadata": {
        "id": "6b3JxdpJjXLu",
        "outputId": "fa423821-3478-4e61-c663-3f4d5d461441"
      },
      "outputs": [
        {
          "name": "stdout",
          "output_type": "stream",
          "text": [
            "Prediction of train dataset: [0 0 1 1 1 0 0 0 1 0 1 1 1 0 1 0 0 0 0 0 1 1 1 0 0 0 0 1 1 0 1 0 0 0 0]\n",
            "Prediction of test dataset: [0 0 1 0 0 1 0 0 1 1 1 0 1 0 1]\n",
            "--------------classification_report & confusion matrix--------------------------\n",
            "              precision    recall  f1-score   support\n",
            "\n",
            "           0       1.00      0.80      0.89        10\n",
            "           1       0.71      1.00      0.83         5\n",
            "\n",
            "    accuracy                           0.87        15\n",
            "   macro avg       0.86      0.90      0.86        15\n",
            "weighted avg       0.90      0.87      0.87        15\n",
            "\n",
            "Confusion Matrix: \n",
            " [[8 2]\n",
            " [0 5]]\n",
            "---------------------------------------------------------------------------------------------\n",
            "Accuracy of Random Forest  is 0.8666666666666667\n"
          ]
        }
      ],
      "source": [
        "#RandomForestClassifier\n",
        "\n",
        "rfc = RandomForestClassifier(n_estimators=100)\n",
        "rfc.fit(X_train, y_train)\n",
        "t = rfc.predict(X_test)\n",
        "print('Prediction of train dataset: {0}'.format(rfc.predict(X_train)))\n",
        "print('Prediction of test dataset: {0}'.format(rfc.predict(X_test)))\n",
        "print(\"--------------classification_report & confusion matrix--------------------------\")\n",
        "print(classification_report(y_test,t))\n",
        "confusion = confusion_matrix(y_test,t)\n",
        "print('Confusion Matrix: \\n {0}'.format(confusion))\n",
        "acc=accuracy_score(y_test,t)\n",
        "print(\"---------------------------------------------------------------------------------------------\")\n",
        "print( 'Accuracy of Random Forest  is {0}'.format(acc))\n",
        "\n"
      ]
    },
    {
      "cell_type": "code",
      "execution_count": null,
      "metadata": {
        "id": "LvNkbSmPjXLv",
        "outputId": "a0d22832-1526-43f0-d0dc-83e0706fe06f"
      },
      "outputs": [
        {
          "name": "stdout",
          "output_type": "stream",
          "text": [
            "Prediction of train dataset: [0 0 1 1 1 0 0 0 1 0 1 1 1 0 1 0 0 0 0 0 1 1 1 0 0 0 0 1 1 0 1 0 0 0 0]\n",
            "Prediction of test dataset: [0 0 0 0 0 0 0 1 1 0 0 1 1 0 0]\n",
            "--------------classification_report & confusion matrix--------------------------\n",
            "              precision    recall  f1-score   support\n",
            "\n",
            "           0       0.73      0.80      0.76        10\n",
            "           1       0.50      0.40      0.44         5\n",
            "\n",
            "    accuracy                           0.67        15\n",
            "   macro avg       0.61      0.60      0.60        15\n",
            "weighted avg       0.65      0.67      0.66        15\n",
            "\n",
            "Confusion Matrix: \n",
            " [[8 2]\n",
            " [3 2]]\n",
            "---------------------------------------------------------------------------------------------\n",
            "Accuracy of KNN  is 0.6666666666666666\n"
          ]
        }
      ],
      "source": [
        "#KNeighborsClassifier\n",
        "\n",
        "knn = KNeighborsClassifier(n_neighbors=1)\n",
        "knn.fit(X_train,y_train)\n",
        "t= knn.predict(X_test)\n",
        "print('Prediction of train dataset: {0}'.format(knn.predict(X_train)))\n",
        "print('Prediction of test dataset: {0}'.format(knn.predict(X_test)))\n",
        "print(\"--------------classification_report & confusion matrix--------------------------\")\n",
        "print(classification_report(y_test,t))\n",
        "confusion = confusion_matrix(y_test,t)\n",
        "print('Confusion Matrix: \\n {0}'.format(confusion))\n",
        "acc=accuracy_score(y_test,t)\n",
        "print(\"---------------------------------------------------------------------------------------------\")\n",
        "print( 'Accuracy of KNN  is {0}'.format(acc))"
      ]
    },
    {
      "cell_type": "code",
      "execution_count": null,
      "metadata": {
        "id": "nxnPiG26jXLv",
        "outputId": "08b1543f-b0b5-44da-c41f-23cae0431ad4"
      },
      "outputs": [
        {
          "name": "stdout",
          "output_type": "stream",
          "text": [
            "Prediction of train dataset: [1 0 1 1 1 1 0 0 1 0 1 1 1 0 1 0 0 0 0 0 1 1 1 0 0 0 0 1 1 0 1 0 0 0 0]\n",
            "Prediction of test dataset: [0 0 1 0 0 0 0 0 1 1 1 0 1 0 0]\n",
            "--------------classification_report & confusion matrix--------------------------\n",
            "              precision    recall  f1-score   support\n",
            "\n",
            "           0       0.90      0.90      0.90        10\n",
            "           1       0.80      0.80      0.80         5\n",
            "\n",
            "    accuracy                           0.87        15\n",
            "   macro avg       0.85      0.85      0.85        15\n",
            "weighted avg       0.87      0.87      0.87        15\n",
            "\n",
            "Confusion Matrix: \n",
            " [[9 1]\n",
            " [1 4]]\n",
            "---------------------------------------------------------------------------------------------\n",
            "Accuracy of Naive Bayes  is 0.8666666666666667\n"
          ]
        }
      ],
      "source": [
        "#Naive Bayes\n",
        "\n",
        "gnb = GaussianNB()\n",
        "gnb.fit(X_train,y_train)\n",
        "t = gnb.predict(X_test)\n",
        "print('Prediction of train dataset: {0}'.format(gnb.predict(X_train)))\n",
        "print('Prediction of test dataset: {0}'.format(gnb.predict(X_test)))\n",
        "print(\"--------------classification_report & confusion matrix--------------------------\")\n",
        "print(classification_report(y_test,t))\n",
        "confusion = confusion_matrix(y_test,t)\n",
        "print('Confusion Matrix: \\n {0}'.format(confusion))\n",
        "acc=accuracy_score(y_test,t)\n",
        "print(\"---------------------------------------------------------------------------------------------\")\n",
        "print( 'Accuracy of Naive Bayes  is {0}'.format(acc))\n"
      ]
    },
    {
      "cell_type": "code",
      "execution_count": null,
      "metadata": {
        "id": "RQYttmqmjXLv"
      },
      "outputs": [],
      "source": []
    }
  ],
  "metadata": {
    "kernelspec": {
      "display_name": "Python 3",
      "language": "python",
      "name": "python3"
    },
    "language_info": {
      "codemirror_mode": {
        "name": "ipython",
        "version": 3
      },
      "file_extension": ".py",
      "mimetype": "text/x-python",
      "name": "python",
      "nbconvert_exporter": "python",
      "pygments_lexer": "ipython3",
      "version": "3.6.8"
    },
    "colab": {
      "provenance": []
    }
  },
  "nbformat": 4,
  "nbformat_minor": 0
}